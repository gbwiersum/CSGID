{
 "cells": [
  {
   "cell_type": "code",
   "execution_count": 248,
   "outputs": [],
   "source": [
    "import keras\n",
    "from PIL import Image\n",
    "import pandas as pd\n",
    "import numpy as np\n",
    "import tensorflow as tf\n",
    "\n",
    "feature_description = {\n",
    "        \"image/height\": tf.io.VarLenFeature(tf.int64),  # image height in pixels\n",
    "        \"image/width\": tf.io.VarLenFeature(tf.int64),  # image width in pixels\n",
    "        \"image/colorspace\": tf.io.VarLenFeature(tf.string),  # specifying the colorspace, always 'RGB'\n",
    "        \"image/channels\": tf.io.VarLenFeature(tf.int64),  # specifying the number of channels, always 3\n",
    "        \"image/class/label\": tf.io.VarLenFeature(tf.int64),  # specifying the index in a normalized classification layer\n",
    "        \"image/class/raw\": tf.io.VarLenFeature(tf.int64),\n",
    "        # specifying the index in the raw (original) classification layer\n",
    "        \"image/class/source\": tf.io.VarLenFeature(tf.int64),\n",
    "        # specifying the index of the source (creator of the image)\n",
    "        \"image/class/text\": tf.io.VarLenFeature(tf.string),\n",
    "        # specifying the human-readable version of the normalized label\n",
    "        \"image/format\": tf.io.VarLenFeature(tf.string),  # specifying the format, always 'JPEG'\n",
    "        \"image/filename\": tf.io.VarLenFeature(tf.string),  # containing the basename of the image file\n",
    "        \"image/id\": tf.io.VarLenFeature(tf.string),  # specifying the unique id for the image\n",
    "        \"image/encoded\": tf.io.VarLenFeature(tf.string),  # containing JPEG encoded image in RGB colorspace\n",
    "    }\n",
    "\n",
    "model = keras.models.load_model('../Models/csgid-image-rec.h5')\n",
    "minstrel_dir = \"../Minstrel-Screens/*/*\"\n",
    "\n",
    "def image_preprocess(impath):\n",
    "    image = Image.open(impath)\n",
    "    crop_size = min(image.size)\n",
    "    left = (image.size[1]-crop_size)//2\n",
    "    right = image.size[1]-(image.size[1]-crop_size)//2\n",
    "    bottom = (image.size[0]-crop_size)//2\n",
    "    top = image.size[0]//2+crop_size//2\n",
    "    image = image.crop((left, bottom, right, top))\n",
    "    image = image.resize((299,299),Image.ANTIALIAS)\n",
    "    image = np.asarray(image)\n",
    "    return image\n",
    "\n",
    "def image_getter(plate_dir):\n",
    "    image_folders = glob.glob(plate_dir)\n",
    "    wells = pd.DataFrame(glob.glob(image_folders[1]+\"/*\"), columns = [\"filepath\"])\n",
    "    wells = wells[wells[\"filepath\"].str.contains(\"_E0_\")]\n",
    "    wells = wells.reset_index().drop(columns = \"index\")\n",
    "    #wells[\"image\"] = wells['filepath'].apply(lambda x: image_preprocess(x))\n",
    "    return wells\n",
    "\n",
    "def predict(image, classifier):\n",
    "    #for each image, load, resize and predict. (morphological?)\n",
    "    prediction = classifier.predict(image)\n",
    "    return prediction"
   ],
   "metadata": {
    "collapsed": false,
    "pycharm": {
     "name": "#%%\n"
    }
   }
  },
  {
   "cell_type": "code",
   "execution_count": 152,
   "outputs": [],
   "source": [
    "wells = image_getter(minstrel_dir)\n",
    "test_image = wells.iloc[0]['image']"
   ],
   "metadata": {
    "collapsed": false,
    "pycharm": {
     "name": "#%%\n"
    }
   }
  },
  {
   "cell_type": "code",
   "execution_count": 237,
   "outputs": [
    {
     "name": "stdout",
     "output_type": "stream",
     "text": [
      "Train Files:  2\n",
      "Test Files:  1\n"
     ]
    }
   ],
   "source": [
    "# Much of the code used here is based on: https://keras.io/examples/keras_recipes/tfrecord/\n",
    "from ImageRecognition.utils.DataGenerator import get_dataset\n",
    "from ImageRecognition.utils.Inceptionv4 import create_model\n",
    "import glob\n",
    "\n",
    "train_list = glob.glob('../train-jpg/*')[0:2]\n",
    "test_list = glob.glob('../test-jpg/*')[0:1]\n",
    "valid_list = test_list\n",
    "\n",
    "# Tuning and training params:\n",
    "BATCH_SIZE = 100\n",
    "IMAGE_SIZE = [100, 100, 3]\n",
    "\n",
    "print(\"Train Files: \", len(train_list))\n",
    "print(\"Test Files: \", len(test_list))\n",
    "\n",
    "train_dataset = get_dataset(train_list, batch_size=BATCH_SIZE, im_size=IMAGE_SIZE)\n",
    "valid_dataset = get_dataset(test_list, batch_size=BATCH_SIZE, im_size=IMAGE_SIZE)\n",
    "test_dataset = get_dataset(test_list, labeled=False, batch_size=BATCH_SIZE, im_size=IMAGE_SIZE)"
   ],
   "metadata": {
    "collapsed": false,
    "pycharm": {
     "name": "#%%\n"
    }
   }
  },
  {
   "cell_type": "code",
   "execution_count": 238,
   "outputs": [],
   "source": [
    "import matplotlib.pyplot as plt\n",
    "test_image, test_label = next(iter(valid_dataset))"
   ],
   "metadata": {
    "collapsed": false,
    "pycharm": {
     "name": "#%%\n"
    }
   }
  },
  {
   "cell_type": "code",
   "execution_count": 239,
   "outputs": [],
   "source": [
    "test_pred = model.predict(test_image)\n",
    "#plt.imshow(test_image[0].numpy()/255)"
   ],
   "metadata": {
    "collapsed": false,
    "pycharm": {
     "name": "#%%\n"
    }
   }
  },
  {
   "cell_type": "code",
   "execution_count": 240,
   "outputs": [
    {
     "data": {
      "text/plain": "array([0., 0., 0., 0., 0., 0., 0., 0., 0., 0., 0., 0., 0., 0., 1., 0., 0.,\n       1., 0., 1., 1., 0., 0., 0., 0., 0., 0., 1., 0., 0., 0., 0., 0., 0.,\n       0., 0., 0., 0., 0., 0., 0., 1., 1., 0., 0., 0., 0., 0., 0., 0., 0.,\n       0., 0., 1., 0., 0., 0., 0., 0., 0., 0., 0., 0., 0., 1., 0., 0., 0.,\n       0., 0., 0., 0., 0., 0., 0., 0., 0., 1., 0., 0., 0., 0., 0., 1., 0.,\n       0., 0., 0., 0., 0., 0., 0., 0., 0., 0., 0., 0., 0., 0., 0.],\n      dtype=float32)"
     },
     "execution_count": 240,
     "metadata": {},
     "output_type": "execute_result"
    }
   ],
   "source": [
    "test_label.numpy()"
   ],
   "metadata": {
    "collapsed": false,
    "pycharm": {
     "name": "#%%\n"
    }
   }
  },
  {
   "cell_type": "code",
   "execution_count": 241,
   "outputs": [
    {
     "data": {
      "text/plain": "array([[0.12766936],\n       [0.12766936],\n       [0.12766936],\n       [0.12766936],\n       [0.12766936],\n       [0.12766936],\n       [0.12766936],\n       [0.12766936],\n       [0.12766936],\n       [0.12766936],\n       [0.12766936],\n       [0.12766936],\n       [0.12766936],\n       [0.12766936],\n       [0.12766936],\n       [0.12766936],\n       [0.12766936],\n       [0.12766936],\n       [0.12766936],\n       [0.12766936],\n       [0.12766936],\n       [0.12766936],\n       [0.12766936],\n       [0.12766936],\n       [0.12766936],\n       [0.12766936],\n       [0.12766936],\n       [0.12766936],\n       [0.12766936],\n       [0.12766936],\n       [0.12766936],\n       [0.12766936],\n       [0.12766936],\n       [0.12766936],\n       [0.12766936],\n       [0.12766936],\n       [0.12766936],\n       [0.12766936],\n       [0.12766936],\n       [0.12766936],\n       [0.12766936],\n       [0.12766936],\n       [0.12766936],\n       [0.12766936],\n       [0.12766936],\n       [0.12766936],\n       [0.12766936],\n       [0.12766936],\n       [0.12766936],\n       [0.12766936],\n       [0.12766936],\n       [0.12766936],\n       [0.12766936],\n       [0.12766936],\n       [0.12766936],\n       [0.12766936],\n       [0.12766936],\n       [0.12766936],\n       [0.12766936],\n       [0.12766936],\n       [0.12766936],\n       [0.12766936],\n       [0.12766936],\n       [0.12766936],\n       [0.12766936],\n       [0.12766936],\n       [0.12766936],\n       [0.12766936],\n       [0.12766936],\n       [0.12766936],\n       [0.12766936],\n       [0.12766936],\n       [0.12766936],\n       [0.12766936],\n       [0.12766936],\n       [0.12766936],\n       [0.12766936],\n       [0.12766936],\n       [0.12766936],\n       [0.12766936],\n       [0.12766936],\n       [0.12766936],\n       [0.12766936],\n       [0.12766936],\n       [0.12766936],\n       [0.12766936],\n       [0.12766936],\n       [0.12766936],\n       [0.12766936],\n       [0.12766936],\n       [0.12766936],\n       [0.12766936],\n       [0.12766936],\n       [0.12766936],\n       [0.12766936],\n       [0.12766936],\n       [0.12766936],\n       [0.12766936],\n       [0.12766936],\n       [0.12766936]], dtype=float32)"
     },
     "execution_count": 241,
     "metadata": {},
     "output_type": "execute_result"
    }
   ],
   "source": [
    "test_pred\n"
   ],
   "metadata": {
    "collapsed": false,
    "pycharm": {
     "name": "#%%\n"
    }
   }
  },
  {
   "cell_type": "code",
   "execution_count": 242,
   "outputs": [],
   "source": [
    "# The following functions can be used to convert a value to a type compatible\n",
    "# with tf.train.Example.\n",
    "\n",
    "def _bytes_feature(value):\n",
    "  \"\"\"Returns a bytes_list from a string / byte.\"\"\"\n",
    "  if isinstance(value, type(tf.constant(0))):\n",
    "    value = value.numpy() # BytesList won't unpack a string from an EagerTensor.\n",
    "  return tf.train.Feature(bytes_list=tf.train.BytesList(value=[value]))\n",
    "\n",
    "def _float_feature(value):\n",
    "  \"\"\"Returns a float_list from a float / double.\"\"\"\n",
    "  return tf.train.Feature(float_list=tf.train.FloatList(value=[value]))\n",
    "\n",
    "def _int64_feature(value):\n",
    "  \"\"\"Returns an int64_list from a bool / enum / int / uint.\"\"\"\n",
    "  return tf.train.Feature(int64_list=tf.train.Int64List(value=[value]))\n",
    "\n",
    "def tfrecord_writer(filepath, label=5):\n",
    "    image_string = open(filepath, 'rb').read()\n",
    "    image_shape = tf.image.decode_jpeg(image_string).shape\n",
    "    label = label\n",
    "    feature = {\n",
    "        \"image/height\": _int64_feature(image_shape[0]),  # image height in pixels\n",
    "        \"image/width\": _int64_feature(image_shape[1]),  # image width in pixels\n",
    "        \"image/colorspace\": _bytes_feature(bytes('RGB', encoding='utf8')),  # specifying the colorspace, always 'RGB'\n",
    "        \"image/channels\": _int64_feature(3),  # specifying the number of channels, always 3\n",
    "        \"image/class/label\": _int64_feature(label),  # specifying the index in a normalized classification layer\n",
    "        \"image/class/raw\": _int64_feature(label),\n",
    "        # specifying the index in the raw (original) classification layer\n",
    "        \"image/class/source\": _int64_feature(5),\n",
    "        # specifying the index of the source (creator of the image) - CSGID = 5\n",
    "        \"image/class/text\": _bytes_feature(bytes(label)),\n",
    "        # specifying the human-readable version of the normalized label\n",
    "        \"image/format\": _bytes_feature(bytes(\"JPEG\", encoding='utf8')),  # specifying the format, always 'JPEG'\n",
    "        \"image/filename\": _bytes_feature(bytes(filepath, encoding='utf8' )),  # containing the basename of the image file\n",
    "        \"image/id\": _bytes_feature(bytes(filepath, encoding='utf8')),  # specifying the unique id for the image\n",
    "        \"image/encoded\": _bytes_feature(image_string),  # containing JPEG encoded image in RGB colorspace\n",
    "\n",
    "    }\n",
    "    return tf.train.Example(features=tf.train.Features(feature=feature))"
   ],
   "metadata": {
    "collapsed": false,
    "pycharm": {
     "name": "#%%\n"
    }
   }
  },
  {
   "cell_type": "code",
   "execution_count": 243,
   "outputs": [
    {
     "data": {
      "text/plain": "{0: '../Minstrel-Screens/C2019025/1/RMM3_01_429_ROBO_Test1_Clon1_C2_0000C2019025_001_201030_04_08_01_E0_99_025_001_RDI.jpg',\n 1: '../Minstrel-Screens/C2019025/1/RMM3_01_429_ROBO_Test1_Clon1_C2_0000C2019025_001_201030_05_08_01_E0_99_025_001_RDI.jpg',\n 2: '../Minstrel-Screens/C2019025/1/RMM3_01_429_ROBO_Test1_Clon1_C2_0000C2019025_001_201030_03_01_01_E0_99_025_001_RDI.jpg',\n 3: '../Minstrel-Screens/C2019025/1/RMM3_01_429_ROBO_Test1_Clon1_C2_0000C2019025_001_201030_03_03_01_E0_99_025_001_RDI.jpg',\n 4: '../Minstrel-Screens/C2019025/1/RMM3_01_429_ROBO_Test1_Clon1_C2_0000C2019025_001_201030_08_03_01_E0_99_025_001_RDI.jpg',\n 5: '../Minstrel-Screens/C2019025/1/RMM3_01_429_ROBO_Test1_Clon1_C2_0000C2019025_001_201030_02_08_01_E0_99_025_001_RDI.jpg',\n 6: '../Minstrel-Screens/C2019025/1/RMM3_01_429_ROBO_Test1_Clon1_C2_0000C2019025_001_201030_06_07_01_E0_99_025_001_RDI.jpg',\n 7: '../Minstrel-Screens/C2019025/1/RMM3_01_429_ROBO_Test1_Clon1_C2_0000C2019025_001_201030_10_08_01_E0_99_025_001_RDI.jpg',\n 8: '../Minstrel-Screens/C2019025/1/RMM3_01_429_ROBO_Test1_Clon1_C2_0000C2019025_001_201030_11_04_01_E0_99_025_001_RDI.jpg',\n 9: '../Minstrel-Screens/C2019025/1/RMM3_01_429_ROBO_Test1_Clon1_C2_0000C2019025_001_201030_11_07_01_E0_99_025_001_RDI.jpg',\n 10: '../Minstrel-Screens/C2019025/1/RMM3_01_429_ROBO_Test1_Clon1_C2_0000C2019025_001_201030_04_07_01_E0_99_025_001_RDI.jpg',\n 11: '../Minstrel-Screens/C2019025/1/RMM3_01_429_ROBO_Test1_Clon1_C2_0000C2019025_001_201030_01_05_01_E0_99_025_001_RDI.jpg',\n 12: '../Minstrel-Screens/C2019025/1/RMM3_01_429_ROBO_Test1_Clon1_C2_0000C2019025_001_201030_01_04_01_E0_99_025_001_RDI.jpg',\n 13: '../Minstrel-Screens/C2019025/1/RMM3_01_429_ROBO_Test1_Clon1_C2_0000C2019025_001_201030_05_05_01_E0_99_025_001_RDI.jpg',\n 14: '../Minstrel-Screens/C2019025/1/RMM3_01_429_ROBO_Test1_Clon1_C2_0000C2019025_001_201030_08_01_01_E0_99_025_001_RDI.jpg',\n 15: '../Minstrel-Screens/C2019025/1/RMM3_01_429_ROBO_Test1_Clon1_C2_0000C2019025_001_201030_06_01_01_E0_99_025_001_RDI.jpg',\n 16: '../Minstrel-Screens/C2019025/1/RMM3_01_429_ROBO_Test1_Clon1_C2_0000C2019025_001_201030_02_02_01_E0_99_025_001_RDI.jpg',\n 17: '../Minstrel-Screens/C2019025/1/RMM3_01_429_ROBO_Test1_Clon1_C2_0000C2019025_001_201030_07_03_01_E0_99_025_001_RDI.jpg',\n 18: '../Minstrel-Screens/C2019025/1/RMM3_01_429_ROBO_Test1_Clon1_C2_0000C2019025_001_201030_07_01_01_E0_99_025_001_RDI.jpg',\n 19: '../Minstrel-Screens/C2019025/1/RMM3_01_429_ROBO_Test1_Clon1_C2_0000C2019025_001_201030_03_07_01_E0_99_025_001_RDI.jpg',\n 20: '../Minstrel-Screens/C2019025/1/RMM3_01_429_ROBO_Test1_Clon1_C2_0000C2019025_001_201030_08_08_01_E0_99_025_001_RDI.jpg',\n 21: '../Minstrel-Screens/C2019025/1/RMM3_01_429_ROBO_Test1_Clon1_C2_0000C2019025_001_201030_07_04_01_E0_99_025_001_RDI.jpg',\n 22: '../Minstrel-Screens/C2019025/1/RMM3_01_429_ROBO_Test1_Clon1_C2_0000C2019025_001_201030_04_04_01_E0_99_025_001_RDI.jpg',\n 23: '../Minstrel-Screens/C2019025/1/RMM3_01_429_ROBO_Test1_Clon1_C2_0000C2019025_001_201030_09_04_01_E0_99_025_001_RDI.jpg',\n 24: '../Minstrel-Screens/C2019025/1/RMM3_01_429_ROBO_Test1_Clon1_C2_0000C2019025_001_201030_09_01_01_E0_99_025_001_RDI.jpg',\n 25: '../Minstrel-Screens/C2019025/1/RMM3_01_429_ROBO_Test1_Clon1_C2_0000C2019025_001_201030_04_02_01_E0_99_025_001_RDI.jpg',\n 26: '../Minstrel-Screens/C2019025/1/RMM3_01_429_ROBO_Test1_Clon1_C2_0000C2019025_001_201030_05_07_01_E0_99_025_001_RDI.jpg',\n 27: '../Minstrel-Screens/C2019025/1/RMM3_01_429_ROBO_Test1_Clon1_C2_0000C2019025_001_201030_02_01_01_E0_99_025_001_RDI.jpg',\n 28: '../Minstrel-Screens/C2019025/1/RMM3_01_429_ROBO_Test1_Clon1_C2_0000C2019025_001_201030_09_08_01_E0_99_025_001_RDI.jpg',\n 29: '../Minstrel-Screens/C2019025/1/RMM3_01_429_ROBO_Test1_Clon1_C2_0000C2019025_001_201030_04_06_01_E0_99_025_001_RDI.jpg',\n 30: '../Minstrel-Screens/C2019025/1/RMM3_01_429_ROBO_Test1_Clon1_C2_0000C2019025_001_201030_10_02_01_E0_99_025_001_RDI.jpg',\n 31: '../Minstrel-Screens/C2019025/1/RMM3_01_429_ROBO_Test1_Clon1_C2_0000C2019025_001_201030_02_04_01_E0_99_025_001_RDI.jpg',\n 32: '../Minstrel-Screens/C2019025/1/RMM3_01_429_ROBO_Test1_Clon1_C2_0000C2019025_001_201030_09_03_01_E0_99_025_001_RDI.jpg',\n 33: '../Minstrel-Screens/C2019025/1/RMM3_01_429_ROBO_Test1_Clon1_C2_0000C2019025_001_201030_06_04_01_E0_99_025_001_RDI.jpg',\n 34: '../Minstrel-Screens/C2019025/1/RMM3_01_429_ROBO_Test1_Clon1_C2_0000C2019025_001_201030_10_06_01_E0_99_025_001_RDI.jpg',\n 35: '../Minstrel-Screens/C2019025/1/RMM3_01_429_ROBO_Test1_Clon1_C2_0000C2019025_001_201030_10_04_01_E0_99_025_001_RDI.jpg',\n 36: '../Minstrel-Screens/C2019025/1/RMM3_01_429_ROBO_Test1_Clon1_C2_0000C2019025_001_201030_12_06_01_E0_99_025_001_RDI.jpg',\n 37: '../Minstrel-Screens/C2019025/1/RMM3_01_429_ROBO_Test1_Clon1_C2_0000C2019025_001_201030_09_06_01_E0_99_025_001_RDI.jpg',\n 38: '../Minstrel-Screens/C2019025/1/RMM3_01_429_ROBO_Test1_Clon1_C2_0000C2019025_001_201030_08_04_01_E0_99_025_001_RDI.jpg',\n 39: '../Minstrel-Screens/C2019025/1/RMM3_01_429_ROBO_Test1_Clon1_C2_0000C2019025_001_201030_03_05_01_E0_99_025_001_RDI.jpg',\n 40: '../Minstrel-Screens/C2019025/1/RMM3_01_429_ROBO_Test1_Clon1_C2_0000C2019025_001_201030_10_05_01_E0_99_025_001_RDI.jpg',\n 41: '../Minstrel-Screens/C2019025/1/RMM3_01_429_ROBO_Test1_Clon1_C2_0000C2019025_001_201030_04_03_01_E0_99_025_001_RDI.jpg',\n 42: '../Minstrel-Screens/C2019025/1/RMM3_01_429_ROBO_Test1_Clon1_C2_0000C2019025_001_201030_03_06_01_E0_99_025_001_RDI.jpg',\n 43: '../Minstrel-Screens/C2019025/1/RMM3_01_429_ROBO_Test1_Clon1_C2_0000C2019025_001_201030_08_05_01_E0_99_025_001_RDI.jpg',\n 44: '../Minstrel-Screens/C2019025/1/RMM3_01_429_ROBO_Test1_Clon1_C2_0000C2019025_001_201030_02_03_01_E0_99_025_001_RDI.jpg',\n 45: '../Minstrel-Screens/C2019025/1/RMM3_01_429_ROBO_Test1_Clon1_C2_0000C2019025_001_201030_08_07_01_E0_99_025_001_RDI.jpg',\n 46: '../Minstrel-Screens/C2019025/1/RMM3_01_429_ROBO_Test1_Clon1_C2_0000C2019025_001_201030_10_01_01_E0_99_025_001_RDI.jpg',\n 47: '../Minstrel-Screens/C2019025/1/RMM3_01_429_ROBO_Test1_Clon1_C2_0000C2019025_001_201030_06_02_01_E0_99_025_001_RDI.jpg',\n 48: '../Minstrel-Screens/C2019025/1/RMM3_01_429_ROBO_Test1_Clon1_C2_0000C2019025_001_201030_11_01_01_E0_99_025_001_RDI.jpg',\n 49: '../Minstrel-Screens/C2019025/1/RMM3_01_429_ROBO_Test1_Clon1_C2_0000C2019025_001_201030_12_01_01_E0_99_025_001_RDI.jpg',\n 50: '../Minstrel-Screens/C2019025/1/RMM3_01_429_ROBO_Test1_Clon1_C2_0000C2019025_001_201030_06_03_01_E0_99_025_001_RDI.jpg',\n 51: '../Minstrel-Screens/C2019025/1/RMM3_01_429_ROBO_Test1_Clon1_C2_0000C2019025_001_201030_01_08_01_E0_99_025_001_RDI.jpg',\n 52: '../Minstrel-Screens/C2019025/1/RMM3_01_429_ROBO_Test1_Clon1_C2_0000C2019025_001_201030_01_03_01_E0_99_025_001_RDI.jpg',\n 53: '../Minstrel-Screens/C2019025/1/RMM3_01_429_ROBO_Test1_Clon1_C2_0000C2019025_001_201030_03_08_01_E0_99_025_001_RDI.jpg',\n 54: '../Minstrel-Screens/C2019025/1/RMM3_01_429_ROBO_Test1_Clon1_C2_0000C2019025_001_201030_12_08_01_E0_99_025_001_RDI.jpg',\n 55: '../Minstrel-Screens/C2019025/1/RMM3_01_429_ROBO_Test1_Clon1_C2_0000C2019025_001_201030_12_03_01_E0_99_025_001_RDI.jpg',\n 56: '../Minstrel-Screens/C2019025/1/RMM3_01_429_ROBO_Test1_Clon1_C2_0000C2019025_001_201030_07_02_01_E0_99_025_001_RDI.jpg',\n 57: '../Minstrel-Screens/C2019025/1/RMM3_01_429_ROBO_Test1_Clon1_C2_0000C2019025_001_201030_05_03_01_E0_99_025_001_RDI.jpg',\n 58: '../Minstrel-Screens/C2019025/1/RMM3_01_429_ROBO_Test1_Clon1_C2_0000C2019025_001_201030_08_02_01_E0_99_025_001_RDI.jpg',\n 59: '../Minstrel-Screens/C2019025/1/RMM3_01_429_ROBO_Test1_Clon1_C2_0000C2019025_001_201030_11_05_01_E0_99_025_001_RDI.jpg',\n 60: '../Minstrel-Screens/C2019025/1/RMM3_01_429_ROBO_Test1_Clon1_C2_0000C2019025_001_201030_03_02_01_E0_99_025_001_RDI.jpg',\n 61: '../Minstrel-Screens/C2019025/1/RMM3_01_429_ROBO_Test1_Clon1_C2_0000C2019025_001_201030_07_05_01_E0_99_025_001_RDI.jpg',\n 62: '../Minstrel-Screens/C2019025/1/RMM3_01_429_ROBO_Test1_Clon1_C2_0000C2019025_001_201030_06_08_01_E0_99_025_001_RDI.jpg',\n 63: '../Minstrel-Screens/C2019025/1/RMM3_01_429_ROBO_Test1_Clon1_C2_0000C2019025_001_201030_11_03_01_E0_99_025_001_RDI.jpg',\n 64: '../Minstrel-Screens/C2019025/1/RMM3_01_429_ROBO_Test1_Clon1_C2_0000C2019025_001_201030_01_07_01_E0_99_025_001_RDI.jpg',\n 65: '../Minstrel-Screens/C2019025/1/RMM3_01_429_ROBO_Test1_Clon1_C2_0000C2019025_001_201030_01_01_01_E0_99_025_001_RDI.jpg',\n 66: '../Minstrel-Screens/C2019025/1/RMM3_01_429_ROBO_Test1_Clon1_C2_0000C2019025_001_201030_02_05_01_E0_99_025_001_RDI.jpg',\n 67: '../Minstrel-Screens/C2019025/1/RMM3_01_429_ROBO_Test1_Clon1_C2_0000C2019025_001_201030_09_05_01_E0_99_025_001_RDI.jpg',\n 68: '../Minstrel-Screens/C2019025/1/RMM3_01_429_ROBO_Test1_Clon1_C2_0000C2019025_001_201030_10_07_01_E0_99_025_001_RDI.jpg',\n 69: '../Minstrel-Screens/C2019025/1/RMM3_01_429_ROBO_Test1_Clon1_C2_0000C2019025_001_201030_11_02_01_E0_99_025_001_RDI.jpg',\n 70: '../Minstrel-Screens/C2019025/1/RMM3_01_429_ROBO_Test1_Clon1_C2_0000C2019025_001_201030_02_06_01_E0_99_025_001_RDI.jpg',\n 71: '../Minstrel-Screens/C2019025/1/RMM3_01_429_ROBO_Test1_Clon1_C2_0000C2019025_001_201030_05_02_01_E0_99_025_001_RDI.jpg',\n 72: '../Minstrel-Screens/C2019025/1/RMM3_01_429_ROBO_Test1_Clon1_C2_0000C2019025_001_201030_04_01_01_E0_99_025_001_RDI.jpg',\n 73: '../Minstrel-Screens/C2019025/1/RMM3_01_429_ROBO_Test1_Clon1_C2_0000C2019025_001_201030_04_05_01_E0_99_025_001_RDI.jpg',\n 74: '../Minstrel-Screens/C2019025/1/RMM3_01_429_ROBO_Test1_Clon1_C2_0000C2019025_001_201030_01_02_01_E0_99_025_001_RDI.jpg',\n 75: '../Minstrel-Screens/C2019025/1/RMM3_01_429_ROBO_Test1_Clon1_C2_0000C2019025_001_201030_02_07_01_E0_99_025_001_RDI.jpg',\n 76: '../Minstrel-Screens/C2019025/1/RMM3_01_429_ROBO_Test1_Clon1_C2_0000C2019025_001_201030_05_01_01_E0_99_025_001_RDI.jpg',\n 77: '../Minstrel-Screens/C2019025/1/RMM3_01_429_ROBO_Test1_Clon1_C2_0000C2019025_001_201030_11_06_01_E0_99_025_001_RDI.jpg',\n 78: '../Minstrel-Screens/C2019025/1/RMM3_01_429_ROBO_Test1_Clon1_C2_0000C2019025_001_201030_12_05_01_E0_99_025_001_RDI.jpg',\n 79: '../Minstrel-Screens/C2019025/1/RMM3_01_429_ROBO_Test1_Clon1_C2_0000C2019025_001_201030_08_06_01_E0_99_025_001_RDI.jpg',\n 80: '../Minstrel-Screens/C2019025/1/RMM3_01_429_ROBO_Test1_Clon1_C2_0000C2019025_001_201030_12_02_01_E0_99_025_001_RDI.jpg',\n 81: '../Minstrel-Screens/C2019025/1/RMM3_01_429_ROBO_Test1_Clon1_C2_0000C2019025_001_201030_09_02_01_E0_99_025_001_RDI.jpg',\n 82: '../Minstrel-Screens/C2019025/1/RMM3_01_429_ROBO_Test1_Clon1_C2_0000C2019025_001_201030_10_03_01_E0_99_025_001_RDI.jpg',\n 83: '../Minstrel-Screens/C2019025/1/RMM3_01_429_ROBO_Test1_Clon1_C2_0000C2019025_001_201030_05_04_01_E0_99_025_001_RDI.jpg',\n 84: '../Minstrel-Screens/C2019025/1/RMM3_01_429_ROBO_Test1_Clon1_C2_0000C2019025_001_201030_12_07_01_E0_99_025_001_RDI.jpg',\n 85: '../Minstrel-Screens/C2019025/1/RMM3_01_429_ROBO_Test1_Clon1_C2_0000C2019025_001_201030_11_08_01_E0_99_025_001_RDI.jpg',\n 86: '../Minstrel-Screens/C2019025/1/RMM3_01_429_ROBO_Test1_Clon1_C2_0000C2019025_001_201030_01_06_01_E0_99_025_001_RDI.jpg',\n 87: '../Minstrel-Screens/C2019025/1/RMM3_01_429_ROBO_Test1_Clon1_C2_0000C2019025_001_201030_09_07_01_E0_99_025_001_RDI.jpg',\n 88: '../Minstrel-Screens/C2019025/1/RMM3_01_429_ROBO_Test1_Clon1_C2_0000C2019025_001_201030_03_04_01_E0_99_025_001_RDI.jpg',\n 89: '../Minstrel-Screens/C2019025/1/RMM3_01_429_ROBO_Test1_Clon1_C2_0000C2019025_001_201030_07_07_01_E0_99_025_001_RDI.jpg',\n 90: '../Minstrel-Screens/C2019025/1/RMM3_01_429_ROBO_Test1_Clon1_C2_0000C2019025_001_201030_12_04_01_E0_99_025_001_RDI.jpg',\n 91: '../Minstrel-Screens/C2019025/1/RMM3_01_429_ROBO_Test1_Clon1_C2_0000C2019025_001_201030_06_05_01_E0_99_025_001_RDI.jpg',\n 92: '../Minstrel-Screens/C2019025/1/RMM3_01_429_ROBO_Test1_Clon1_C2_0000C2019025_001_201030_05_06_01_E0_99_025_001_RDI.jpg',\n 93: '../Minstrel-Screens/C2019025/1/RMM3_01_429_ROBO_Test1_Clon1_C2_0000C2019025_001_201030_07_06_01_E0_99_025_001_RDI.jpg',\n 94: '../Minstrel-Screens/C2019025/1/RMM3_01_429_ROBO_Test1_Clon1_C2_0000C2019025_001_201030_06_06_01_E0_99_025_001_RDI.jpg',\n 95: '../Minstrel-Screens/C2019025/1/RMM3_01_429_ROBO_Test1_Clon1_C2_0000C2019025_001_201030_07_08_01_E0_99_025_001_RDI.jpg'}"
     },
     "execution_count": 243,
     "metadata": {},
     "output_type": "execute_result"
    }
   ],
   "source": [
    "#Generate a dict of the well numbers and the image directories\n",
    "image_labels = wells['filepath'].to_dict()\n",
    "image_labels"
   ],
   "metadata": {
    "collapsed": false,
    "pycharm": {
     "name": "#%%\n"
    }
   }
  },
  {
   "cell_type": "code",
   "execution_count": 244,
   "outputs": [],
   "source": [
    "tfrecord_batch = wells[\"filepath\"].apply(lambda x: tfrecord_writer(x))"
   ],
   "metadata": {
    "collapsed": false,
    "pycharm": {
     "name": "#%%\n"
    }
   }
  },
  {
   "cell_type": "code",
   "execution_count": 245,
   "outputs": [],
   "source": [
    "#where to save it:\n",
    "record_file = '../test_images.tfrecords'"
   ],
   "metadata": {
    "collapsed": false,
    "pycharm": {
     "name": "#%%\n"
    }
   }
  },
  {
   "cell_type": "code",
   "execution_count": 246,
   "outputs": [
    {
     "name": "stdout",
     "output_type": "stream",
     "text": [
      "../Minstrel-Screens/C2019025/1/RMM3_01_429_ROBO_Test1_Clon1_C2_0000C2019025_001_201030_04_08_01_E0_99_025_001_RDI.jpg\n",
      "0\n",
      "../Minstrel-Screens/C2019025/1/RMM3_01_429_ROBO_Test1_Clon1_C2_0000C2019025_001_201030_05_08_01_E0_99_025_001_RDI.jpg\n",
      "1\n",
      "../Minstrel-Screens/C2019025/1/RMM3_01_429_ROBO_Test1_Clon1_C2_0000C2019025_001_201030_03_01_01_E0_99_025_001_RDI.jpg\n",
      "2\n",
      "../Minstrel-Screens/C2019025/1/RMM3_01_429_ROBO_Test1_Clon1_C2_0000C2019025_001_201030_03_03_01_E0_99_025_001_RDI.jpg\n",
      "3\n",
      "../Minstrel-Screens/C2019025/1/RMM3_01_429_ROBO_Test1_Clon1_C2_0000C2019025_001_201030_08_03_01_E0_99_025_001_RDI.jpg\n",
      "4\n",
      "../Minstrel-Screens/C2019025/1/RMM3_01_429_ROBO_Test1_Clon1_C2_0000C2019025_001_201030_02_08_01_E0_99_025_001_RDI.jpg\n",
      "5\n",
      "../Minstrel-Screens/C2019025/1/RMM3_01_429_ROBO_Test1_Clon1_C2_0000C2019025_001_201030_06_07_01_E0_99_025_001_RDI.jpg\n",
      "6\n",
      "../Minstrel-Screens/C2019025/1/RMM3_01_429_ROBO_Test1_Clon1_C2_0000C2019025_001_201030_10_08_01_E0_99_025_001_RDI.jpg\n",
      "7\n",
      "../Minstrel-Screens/C2019025/1/RMM3_01_429_ROBO_Test1_Clon1_C2_0000C2019025_001_201030_11_04_01_E0_99_025_001_RDI.jpg\n",
      "8\n",
      "../Minstrel-Screens/C2019025/1/RMM3_01_429_ROBO_Test1_Clon1_C2_0000C2019025_001_201030_11_07_01_E0_99_025_001_RDI.jpg\n",
      "9\n",
      "../Minstrel-Screens/C2019025/1/RMM3_01_429_ROBO_Test1_Clon1_C2_0000C2019025_001_201030_04_07_01_E0_99_025_001_RDI.jpg\n",
      "10\n",
      "../Minstrel-Screens/C2019025/1/RMM3_01_429_ROBO_Test1_Clon1_C2_0000C2019025_001_201030_01_05_01_E0_99_025_001_RDI.jpg\n",
      "11\n",
      "../Minstrel-Screens/C2019025/1/RMM3_01_429_ROBO_Test1_Clon1_C2_0000C2019025_001_201030_01_04_01_E0_99_025_001_RDI.jpg\n",
      "12\n",
      "../Minstrel-Screens/C2019025/1/RMM3_01_429_ROBO_Test1_Clon1_C2_0000C2019025_001_201030_05_05_01_E0_99_025_001_RDI.jpg\n",
      "13\n",
      "../Minstrel-Screens/C2019025/1/RMM3_01_429_ROBO_Test1_Clon1_C2_0000C2019025_001_201030_08_01_01_E0_99_025_001_RDI.jpg\n",
      "14\n",
      "../Minstrel-Screens/C2019025/1/RMM3_01_429_ROBO_Test1_Clon1_C2_0000C2019025_001_201030_06_01_01_E0_99_025_001_RDI.jpg\n",
      "15\n",
      "../Minstrel-Screens/C2019025/1/RMM3_01_429_ROBO_Test1_Clon1_C2_0000C2019025_001_201030_02_02_01_E0_99_025_001_RDI.jpg\n",
      "16\n",
      "../Minstrel-Screens/C2019025/1/RMM3_01_429_ROBO_Test1_Clon1_C2_0000C2019025_001_201030_07_03_01_E0_99_025_001_RDI.jpg\n",
      "17\n",
      "../Minstrel-Screens/C2019025/1/RMM3_01_429_ROBO_Test1_Clon1_C2_0000C2019025_001_201030_07_01_01_E0_99_025_001_RDI.jpg\n",
      "18\n",
      "../Minstrel-Screens/C2019025/1/RMM3_01_429_ROBO_Test1_Clon1_C2_0000C2019025_001_201030_03_07_01_E0_99_025_001_RDI.jpg\n",
      "19\n",
      "../Minstrel-Screens/C2019025/1/RMM3_01_429_ROBO_Test1_Clon1_C2_0000C2019025_001_201030_08_08_01_E0_99_025_001_RDI.jpg\n",
      "20\n",
      "../Minstrel-Screens/C2019025/1/RMM3_01_429_ROBO_Test1_Clon1_C2_0000C2019025_001_201030_07_04_01_E0_99_025_001_RDI.jpg\n",
      "21\n",
      "../Minstrel-Screens/C2019025/1/RMM3_01_429_ROBO_Test1_Clon1_C2_0000C2019025_001_201030_04_04_01_E0_99_025_001_RDI.jpg\n",
      "22\n",
      "../Minstrel-Screens/C2019025/1/RMM3_01_429_ROBO_Test1_Clon1_C2_0000C2019025_001_201030_09_04_01_E0_99_025_001_RDI.jpg\n",
      "23\n",
      "../Minstrel-Screens/C2019025/1/RMM3_01_429_ROBO_Test1_Clon1_C2_0000C2019025_001_201030_09_01_01_E0_99_025_001_RDI.jpg\n",
      "24\n",
      "../Minstrel-Screens/C2019025/1/RMM3_01_429_ROBO_Test1_Clon1_C2_0000C2019025_001_201030_04_02_01_E0_99_025_001_RDI.jpg\n",
      "25\n",
      "../Minstrel-Screens/C2019025/1/RMM3_01_429_ROBO_Test1_Clon1_C2_0000C2019025_001_201030_05_07_01_E0_99_025_001_RDI.jpg\n",
      "26\n",
      "../Minstrel-Screens/C2019025/1/RMM3_01_429_ROBO_Test1_Clon1_C2_0000C2019025_001_201030_02_01_01_E0_99_025_001_RDI.jpg\n",
      "27\n",
      "../Minstrel-Screens/C2019025/1/RMM3_01_429_ROBO_Test1_Clon1_C2_0000C2019025_001_201030_09_08_01_E0_99_025_001_RDI.jpg\n",
      "28\n",
      "../Minstrel-Screens/C2019025/1/RMM3_01_429_ROBO_Test1_Clon1_C2_0000C2019025_001_201030_04_06_01_E0_99_025_001_RDI.jpg\n",
      "29\n",
      "../Minstrel-Screens/C2019025/1/RMM3_01_429_ROBO_Test1_Clon1_C2_0000C2019025_001_201030_10_02_01_E0_99_025_001_RDI.jpg\n",
      "30\n",
      "../Minstrel-Screens/C2019025/1/RMM3_01_429_ROBO_Test1_Clon1_C2_0000C2019025_001_201030_02_04_01_E0_99_025_001_RDI.jpg\n",
      "31\n",
      "../Minstrel-Screens/C2019025/1/RMM3_01_429_ROBO_Test1_Clon1_C2_0000C2019025_001_201030_09_03_01_E0_99_025_001_RDI.jpg\n",
      "32\n",
      "../Minstrel-Screens/C2019025/1/RMM3_01_429_ROBO_Test1_Clon1_C2_0000C2019025_001_201030_06_04_01_E0_99_025_001_RDI.jpg\n",
      "33\n",
      "../Minstrel-Screens/C2019025/1/RMM3_01_429_ROBO_Test1_Clon1_C2_0000C2019025_001_201030_10_06_01_E0_99_025_001_RDI.jpg\n",
      "34\n",
      "../Minstrel-Screens/C2019025/1/RMM3_01_429_ROBO_Test1_Clon1_C2_0000C2019025_001_201030_10_04_01_E0_99_025_001_RDI.jpg\n",
      "35\n",
      "../Minstrel-Screens/C2019025/1/RMM3_01_429_ROBO_Test1_Clon1_C2_0000C2019025_001_201030_12_06_01_E0_99_025_001_RDI.jpg\n",
      "36\n",
      "../Minstrel-Screens/C2019025/1/RMM3_01_429_ROBO_Test1_Clon1_C2_0000C2019025_001_201030_09_06_01_E0_99_025_001_RDI.jpg\n",
      "37\n",
      "../Minstrel-Screens/C2019025/1/RMM3_01_429_ROBO_Test1_Clon1_C2_0000C2019025_001_201030_08_04_01_E0_99_025_001_RDI.jpg\n",
      "38\n",
      "../Minstrel-Screens/C2019025/1/RMM3_01_429_ROBO_Test1_Clon1_C2_0000C2019025_001_201030_03_05_01_E0_99_025_001_RDI.jpg\n",
      "39\n",
      "../Minstrel-Screens/C2019025/1/RMM3_01_429_ROBO_Test1_Clon1_C2_0000C2019025_001_201030_10_05_01_E0_99_025_001_RDI.jpg\n",
      "40\n",
      "../Minstrel-Screens/C2019025/1/RMM3_01_429_ROBO_Test1_Clon1_C2_0000C2019025_001_201030_04_03_01_E0_99_025_001_RDI.jpg\n",
      "41\n",
      "../Minstrel-Screens/C2019025/1/RMM3_01_429_ROBO_Test1_Clon1_C2_0000C2019025_001_201030_03_06_01_E0_99_025_001_RDI.jpg\n",
      "42\n",
      "../Minstrel-Screens/C2019025/1/RMM3_01_429_ROBO_Test1_Clon1_C2_0000C2019025_001_201030_08_05_01_E0_99_025_001_RDI.jpg\n",
      "43\n",
      "../Minstrel-Screens/C2019025/1/RMM3_01_429_ROBO_Test1_Clon1_C2_0000C2019025_001_201030_02_03_01_E0_99_025_001_RDI.jpg\n",
      "44\n",
      "../Minstrel-Screens/C2019025/1/RMM3_01_429_ROBO_Test1_Clon1_C2_0000C2019025_001_201030_08_07_01_E0_99_025_001_RDI.jpg\n",
      "45\n",
      "../Minstrel-Screens/C2019025/1/RMM3_01_429_ROBO_Test1_Clon1_C2_0000C2019025_001_201030_10_01_01_E0_99_025_001_RDI.jpg\n",
      "46\n",
      "../Minstrel-Screens/C2019025/1/RMM3_01_429_ROBO_Test1_Clon1_C2_0000C2019025_001_201030_06_02_01_E0_99_025_001_RDI.jpg\n",
      "47\n",
      "../Minstrel-Screens/C2019025/1/RMM3_01_429_ROBO_Test1_Clon1_C2_0000C2019025_001_201030_11_01_01_E0_99_025_001_RDI.jpg\n",
      "48\n",
      "../Minstrel-Screens/C2019025/1/RMM3_01_429_ROBO_Test1_Clon1_C2_0000C2019025_001_201030_12_01_01_E0_99_025_001_RDI.jpg\n",
      "49\n",
      "../Minstrel-Screens/C2019025/1/RMM3_01_429_ROBO_Test1_Clon1_C2_0000C2019025_001_201030_06_03_01_E0_99_025_001_RDI.jpg\n",
      "50\n",
      "../Minstrel-Screens/C2019025/1/RMM3_01_429_ROBO_Test1_Clon1_C2_0000C2019025_001_201030_01_08_01_E0_99_025_001_RDI.jpg\n",
      "51\n",
      "../Minstrel-Screens/C2019025/1/RMM3_01_429_ROBO_Test1_Clon1_C2_0000C2019025_001_201030_01_03_01_E0_99_025_001_RDI.jpg\n",
      "52\n",
      "../Minstrel-Screens/C2019025/1/RMM3_01_429_ROBO_Test1_Clon1_C2_0000C2019025_001_201030_03_08_01_E0_99_025_001_RDI.jpg\n",
      "53\n",
      "../Minstrel-Screens/C2019025/1/RMM3_01_429_ROBO_Test1_Clon1_C2_0000C2019025_001_201030_12_08_01_E0_99_025_001_RDI.jpg\n",
      "54\n",
      "../Minstrel-Screens/C2019025/1/RMM3_01_429_ROBO_Test1_Clon1_C2_0000C2019025_001_201030_12_03_01_E0_99_025_001_RDI.jpg\n",
      "55\n",
      "../Minstrel-Screens/C2019025/1/RMM3_01_429_ROBO_Test1_Clon1_C2_0000C2019025_001_201030_07_02_01_E0_99_025_001_RDI.jpg\n",
      "56\n",
      "../Minstrel-Screens/C2019025/1/RMM3_01_429_ROBO_Test1_Clon1_C2_0000C2019025_001_201030_05_03_01_E0_99_025_001_RDI.jpg\n",
      "57\n",
      "../Minstrel-Screens/C2019025/1/RMM3_01_429_ROBO_Test1_Clon1_C2_0000C2019025_001_201030_08_02_01_E0_99_025_001_RDI.jpg\n",
      "58\n",
      "../Minstrel-Screens/C2019025/1/RMM3_01_429_ROBO_Test1_Clon1_C2_0000C2019025_001_201030_11_05_01_E0_99_025_001_RDI.jpg\n",
      "59\n",
      "../Minstrel-Screens/C2019025/1/RMM3_01_429_ROBO_Test1_Clon1_C2_0000C2019025_001_201030_03_02_01_E0_99_025_001_RDI.jpg\n",
      "60\n",
      "../Minstrel-Screens/C2019025/1/RMM3_01_429_ROBO_Test1_Clon1_C2_0000C2019025_001_201030_07_05_01_E0_99_025_001_RDI.jpg\n",
      "61\n",
      "../Minstrel-Screens/C2019025/1/RMM3_01_429_ROBO_Test1_Clon1_C2_0000C2019025_001_201030_06_08_01_E0_99_025_001_RDI.jpg\n",
      "62\n",
      "../Minstrel-Screens/C2019025/1/RMM3_01_429_ROBO_Test1_Clon1_C2_0000C2019025_001_201030_11_03_01_E0_99_025_001_RDI.jpg\n",
      "63\n",
      "../Minstrel-Screens/C2019025/1/RMM3_01_429_ROBO_Test1_Clon1_C2_0000C2019025_001_201030_01_07_01_E0_99_025_001_RDI.jpg\n",
      "64\n",
      "../Minstrel-Screens/C2019025/1/RMM3_01_429_ROBO_Test1_Clon1_C2_0000C2019025_001_201030_01_01_01_E0_99_025_001_RDI.jpg\n",
      "65\n",
      "../Minstrel-Screens/C2019025/1/RMM3_01_429_ROBO_Test1_Clon1_C2_0000C2019025_001_201030_02_05_01_E0_99_025_001_RDI.jpg\n",
      "66\n",
      "../Minstrel-Screens/C2019025/1/RMM3_01_429_ROBO_Test1_Clon1_C2_0000C2019025_001_201030_09_05_01_E0_99_025_001_RDI.jpg\n",
      "67\n",
      "../Minstrel-Screens/C2019025/1/RMM3_01_429_ROBO_Test1_Clon1_C2_0000C2019025_001_201030_10_07_01_E0_99_025_001_RDI.jpg\n",
      "68\n",
      "../Minstrel-Screens/C2019025/1/RMM3_01_429_ROBO_Test1_Clon1_C2_0000C2019025_001_201030_11_02_01_E0_99_025_001_RDI.jpg\n",
      "69\n",
      "../Minstrel-Screens/C2019025/1/RMM3_01_429_ROBO_Test1_Clon1_C2_0000C2019025_001_201030_02_06_01_E0_99_025_001_RDI.jpg\n",
      "70\n",
      "../Minstrel-Screens/C2019025/1/RMM3_01_429_ROBO_Test1_Clon1_C2_0000C2019025_001_201030_05_02_01_E0_99_025_001_RDI.jpg\n",
      "71\n",
      "../Minstrel-Screens/C2019025/1/RMM3_01_429_ROBO_Test1_Clon1_C2_0000C2019025_001_201030_04_01_01_E0_99_025_001_RDI.jpg\n",
      "72\n",
      "../Minstrel-Screens/C2019025/1/RMM3_01_429_ROBO_Test1_Clon1_C2_0000C2019025_001_201030_04_05_01_E0_99_025_001_RDI.jpg\n",
      "73\n",
      "../Minstrel-Screens/C2019025/1/RMM3_01_429_ROBO_Test1_Clon1_C2_0000C2019025_001_201030_01_02_01_E0_99_025_001_RDI.jpg\n",
      "74\n",
      "../Minstrel-Screens/C2019025/1/RMM3_01_429_ROBO_Test1_Clon1_C2_0000C2019025_001_201030_02_07_01_E0_99_025_001_RDI.jpg\n",
      "75\n",
      "../Minstrel-Screens/C2019025/1/RMM3_01_429_ROBO_Test1_Clon1_C2_0000C2019025_001_201030_05_01_01_E0_99_025_001_RDI.jpg\n",
      "76\n",
      "../Minstrel-Screens/C2019025/1/RMM3_01_429_ROBO_Test1_Clon1_C2_0000C2019025_001_201030_11_06_01_E0_99_025_001_RDI.jpg\n",
      "77\n",
      "../Minstrel-Screens/C2019025/1/RMM3_01_429_ROBO_Test1_Clon1_C2_0000C2019025_001_201030_12_05_01_E0_99_025_001_RDI.jpg\n",
      "78\n",
      "../Minstrel-Screens/C2019025/1/RMM3_01_429_ROBO_Test1_Clon1_C2_0000C2019025_001_201030_08_06_01_E0_99_025_001_RDI.jpg\n",
      "79\n",
      "../Minstrel-Screens/C2019025/1/RMM3_01_429_ROBO_Test1_Clon1_C2_0000C2019025_001_201030_12_02_01_E0_99_025_001_RDI.jpg\n",
      "80\n",
      "../Minstrel-Screens/C2019025/1/RMM3_01_429_ROBO_Test1_Clon1_C2_0000C2019025_001_201030_09_02_01_E0_99_025_001_RDI.jpg\n",
      "81\n",
      "../Minstrel-Screens/C2019025/1/RMM3_01_429_ROBO_Test1_Clon1_C2_0000C2019025_001_201030_10_03_01_E0_99_025_001_RDI.jpg\n",
      "82\n",
      "../Minstrel-Screens/C2019025/1/RMM3_01_429_ROBO_Test1_Clon1_C2_0000C2019025_001_201030_05_04_01_E0_99_025_001_RDI.jpg\n",
      "83\n",
      "../Minstrel-Screens/C2019025/1/RMM3_01_429_ROBO_Test1_Clon1_C2_0000C2019025_001_201030_12_07_01_E0_99_025_001_RDI.jpg\n",
      "84\n",
      "../Minstrel-Screens/C2019025/1/RMM3_01_429_ROBO_Test1_Clon1_C2_0000C2019025_001_201030_11_08_01_E0_99_025_001_RDI.jpg\n",
      "85\n",
      "../Minstrel-Screens/C2019025/1/RMM3_01_429_ROBO_Test1_Clon1_C2_0000C2019025_001_201030_01_06_01_E0_99_025_001_RDI.jpg\n",
      "86\n",
      "../Minstrel-Screens/C2019025/1/RMM3_01_429_ROBO_Test1_Clon1_C2_0000C2019025_001_201030_09_07_01_E0_99_025_001_RDI.jpg\n",
      "87\n",
      "../Minstrel-Screens/C2019025/1/RMM3_01_429_ROBO_Test1_Clon1_C2_0000C2019025_001_201030_03_04_01_E0_99_025_001_RDI.jpg\n",
      "88\n",
      "../Minstrel-Screens/C2019025/1/RMM3_01_429_ROBO_Test1_Clon1_C2_0000C2019025_001_201030_07_07_01_E0_99_025_001_RDI.jpg\n",
      "89\n",
      "../Minstrel-Screens/C2019025/1/RMM3_01_429_ROBO_Test1_Clon1_C2_0000C2019025_001_201030_12_04_01_E0_99_025_001_RDI.jpg\n",
      "90\n",
      "../Minstrel-Screens/C2019025/1/RMM3_01_429_ROBO_Test1_Clon1_C2_0000C2019025_001_201030_06_05_01_E0_99_025_001_RDI.jpg\n",
      "91\n",
      "../Minstrel-Screens/C2019025/1/RMM3_01_429_ROBO_Test1_Clon1_C2_0000C2019025_001_201030_05_06_01_E0_99_025_001_RDI.jpg\n",
      "92\n",
      "../Minstrel-Screens/C2019025/1/RMM3_01_429_ROBO_Test1_Clon1_C2_0000C2019025_001_201030_07_06_01_E0_99_025_001_RDI.jpg\n",
      "93\n",
      "../Minstrel-Screens/C2019025/1/RMM3_01_429_ROBO_Test1_Clon1_C2_0000C2019025_001_201030_06_06_01_E0_99_025_001_RDI.jpg\n",
      "94\n",
      "../Minstrel-Screens/C2019025/1/RMM3_01_429_ROBO_Test1_Clon1_C2_0000C2019025_001_201030_07_08_01_E0_99_025_001_RDI.jpg\n",
      "95\n"
     ]
    }
   ],
   "source": [
    "#Write all the serialized images to file:\n",
    "with tf.io.TFRecordWriter(record_file) as writer:\n",
    "    for label, filename in image_labels.items():\n",
    "        print(filename)\n",
    "        print(label)\n",
    "        tf_example = tfrecord_writer(filename, label)\n",
    "        writer.write(tf_example.SerializeToString())"
   ],
   "metadata": {
    "collapsed": false,
    "pycharm": {
     "name": "#%%\n"
    }
   }
  },
  {
   "cell_type": "code",
   "source": [
    "pred_dataset = get_dataset(record_file, batch_size=BATCH_SIZE, im_size=IMAGE_SIZE)\n",
    "#Let's make sure we can read our files:\n",
    "raw_example = tf.data.TFRecordDataset(record_file)\n",
    "parsed_example = raw_example.map(lambda x: tf.io.parse_example(x, feature_description))\n",
    "\n",
    "#Read our training data from parsed_example into a real dataset:\n",
    "imlist = [] #Vectorized images\n",
    "label_list = [] #Machine-readable labels\n",
    "human_label_list = [] #Human-readable labels\n",
    "\n",
    "for n in parsed_example:\n",
    "  this_image = tf.io.decode_jpeg(n['image/encoded'].values.numpy()[0]) #Get image data from TFR\n",
    "  this_image = tf.cast(this_image, tf.int16) #Downsampling to int16\n",
    "  this_image = tf.image.resize_with_crop_or_pad(  #Downsampling by cropping to drop\n",
    "      this_image, 600,600\n",
    "      )\n",
    "  this_image = tf.image.resize(this_image, (IMAGE_SIZE[0], IMAGE_SIZE[1])) #Downsampling by resizing image\n",
    "  this_label = n['image/class/label'].values.numpy()[0] #Get image class number\n",
    "  this_human_label = n['image/class/text'].values.numpy()[0] #Get image class name\n",
    "\n",
    "  this_image = (np.array(this_image) / 255)\n",
    "  imlist.append(this_image)\n",
    "  label_list.append(this_label)\n",
    "  human_label_list.append(this_human_label)\n",
    "\n",
    "imlist = np.array(imlist)\n",
    "label_list = np.array(label_list)\n",
    "human_label_list = np.array(human_label_list)"
   ],
   "metadata": {
    "collapsed": false,
    "pycharm": {
     "name": "#%%\n"
    }
   },
   "execution_count": 249,
   "outputs": []
  },
  {
   "cell_type": "code",
   "execution_count": 250,
   "outputs": [
    {
     "data": {
      "text/plain": "array([[[[0.84411764, 0.89117646, 0.8362745 ],\n         [0.8392157 , 0.8862745 , 0.83137256],\n         [0.82254905, 0.8656863 , 0.81078434],\n         ...,\n         [0.4627451 , 0.49019608, 0.42745098],\n         [0.47254902, 0.5       , 0.4372549 ],\n         [0.4627451 , 0.49019608, 0.42745098]],\n\n        [[0.82843137, 0.8833333 , 0.8245098 ],\n         [0.8215686 , 0.87647057, 0.81764704],\n         [0.8352941 , 0.8784314 , 0.8235294 ],\n         ...,\n         [0.4745098 , 0.5019608 , 0.4392157 ],\n         [0.47254902, 0.5       , 0.4372549 ],\n         [0.47254902, 0.5       , 0.4372549 ]],\n\n        [[0.877451  , 0.92058825, 0.8656863 ],\n         [0.83137256, 0.8745098 , 0.81960785],\n         [0.8715686 , 0.9107843 , 0.86764705],\n         ...,\n         [0.4745098 , 0.5019608 , 0.4392157 ],\n         [0.4745098 , 0.5019608 , 0.4392157 ],\n         [0.4745098 , 0.5019608 , 0.4392157 ]],\n\n        ...,\n\n        [[0.68235296, 0.71862745, 0.64215684],\n         [0.46666667, 0.51862746, 0.5411765 ],\n         [0.6401961 , 0.7147059 , 0.72745097],\n         ...,\n         [0.75784314, 0.8009804 , 0.74019605],\n         [0.8931373 , 0.9362745 , 0.86960787],\n         [0.8568627 , 0.9       , 0.8333333 ]],\n\n        [[0.5539216 , 0.59705883, 0.5745098 ],\n         [0.4254902 , 0.4764706 , 0.5       ],\n         [0.8598039 , 0.9245098 , 0.86470586],\n         ...,\n         [0.845098  , 0.8882353 , 0.8215686 ],\n         [0.85588235, 0.8990196 , 0.8362745 ],\n         [0.88039213, 0.9235294 , 0.8568627 ]],\n\n        [[0.54607844, 0.5617647 , 0.6039216 ],\n         [0.7029412 , 0.7470588 , 0.71568626],\n         [0.79313725, 0.8382353 , 0.7617647 ],\n         ...,\n         [0.8686274 , 0.9117647 , 0.8568627 ],\n         [0.8509804 , 0.90588236, 0.8392157 ],\n         [0.9009804 , 0.9529412 , 0.9107843 ]]],\n\n\n       [[[0.81078434, 0.8539216 , 0.7911765 ],\n         [0.7911765 , 0.8303922 , 0.7872549 ],\n         [0.7823529 , 0.8137255 , 0.7705882 ],\n         ...,\n         [0.37843138, 0.4019608 , 0.3627451 ],\n         [0.38431373, 0.40784314, 0.36862746],\n         [0.38431373, 0.40784314, 0.36862746]],\n\n        [[0.80490196, 0.8480392 , 0.7852941 ],\n         [0.7892157 , 0.82843137, 0.7852941 ],\n         [0.7745098 , 0.8029412 , 0.76960784],\n         ...,\n         [0.37254903, 0.39607844, 0.35686275],\n         [0.3764706 , 0.4       , 0.36078432],\n         [0.38431373, 0.40784314, 0.36862746]],\n\n        [[0.8068628 , 0.8382353 , 0.7872549 ],\n         [0.77254903, 0.8039216 , 0.7607843 ],\n         [0.7078431 , 0.7529412 , 0.75784314],\n         ...,\n         [0.4       , 0.4       , 0.36862746],\n         [0.3764706 , 0.4       , 0.36078432],\n         [0.38431373, 0.40784314, 0.36862746]],\n\n        ...,\n\n        [[0.84607846, 0.9009804 , 0.8421569 ],\n         [0.8637255 , 0.9147059 , 0.8754902 ],\n         [0.8637255 , 0.90686274, 0.8519608 ],\n         ...,\n         [0.25196078, 0.27156863, 0.24803922],\n         [0.25490198, 0.27450982, 0.2509804 ],\n         [0.25490198, 0.27450982, 0.2509804 ]],\n\n        [[0.85588235, 0.8931373 , 0.827451  ],\n         [0.79313725, 0.8480392 , 0.8264706 ],\n         [0.8686274 , 0.9235294 , 0.872549  ],\n         ...,\n         [0.24705882, 0.27058825, 0.23137255],\n         [0.25490198, 0.27450982, 0.2509804 ],\n         [0.2529412 , 0.27254903, 0.24901961]],\n\n        [[0.8607843 , 0.8882353 , 0.81764704],\n         [0.73137254, 0.7754902 , 0.74607843],\n         [0.90588236, 0.9607843 , 0.9098039 ],\n         ...,\n         [0.24705882, 0.27058825, 0.23137255],\n         [0.26666668, 0.28627452, 0.2627451 ],\n         [0.25490198, 0.27450982, 0.2509804 ]]],\n\n\n       [[[0.3617647 , 0.40882352, 0.40882352],\n         [0.3019608 , 0.3372549 , 0.35686275],\n         [0.8480392 , 0.89411765, 0.85490197],\n         ...,\n         [0.8480392 , 0.89509803, 0.8401961 ],\n         [0.85784316, 0.9009804 , 0.84607846],\n         [0.8352941 , 0.8784314 , 0.8235294 ]],\n\n        [[0.34215686, 0.3970588 , 0.3970588 ],\n         [0.3382353 , 0.38137254, 0.3970588 ],\n         [0.40098038, 0.4480392 , 0.44607842],\n         ...,\n         [0.82843137, 0.87941176, 0.8127451 ],\n         [0.8519608 , 0.89509803, 0.83235294],\n         [0.85588235, 0.8990196 , 0.8362745 ]],\n\n        [[0.3627451 , 0.4019608 , 0.37058824],\n         [0.37156862, 0.4107843 , 0.37941176],\n         [0.3754902 , 0.41470587, 0.422549  ],\n         ...,\n         [0.85882354, 0.9019608 , 0.84705883],\n         [0.87352943, 0.9166667 , 0.8617647 ],\n         [0.8568627 , 0.9       , 0.845098  ]],\n\n        ...,\n\n        [[0.53137255, 0.53137255, 0.49215686],\n         [0.5254902 , 0.5254902 , 0.4862745 ],\n         [0.5235294 , 0.527451  , 0.46470588],\n         ...,\n         [0.7823529 , 0.7941176 , 0.71960783],\n         [0.74019605, 0.77156866, 0.68921566],\n         [0.7519608 , 0.78333336, 0.70098037]],\n\n        [[0.5294118 , 0.53333336, 0.47058824],\n         [0.53039217, 0.53431374, 0.4715686 ],\n         [0.52843136, 0.5323529 , 0.46960783],\n         ...,\n         [0.7264706 , 0.7382353 , 0.6637255 ],\n         [0.74509805, 0.7764706 , 0.69411767],\n         [0.7558824 , 0.7872549 , 0.70490193]],\n\n        [[0.5245098 , 0.52843136, 0.46568626],\n         [0.5294118 , 0.53333336, 0.47058824],\n         [0.5235294 , 0.527451  , 0.46470588],\n         ...,\n         [0.78039217, 0.7921569 , 0.7176471 ],\n         [0.74607843, 0.777451  , 0.69509804],\n         [0.777451  , 0.8088235 , 0.7264706 ]]],\n\n\n       ...,\n\n\n       [[[0.68333334, 0.7107843 , 0.6480392 ],\n         [0.69215685, 0.71960783, 0.65686274],\n         [0.6882353 , 0.71568626, 0.65294117],\n         ...,\n         [0.70686275, 0.75      , 0.68333334],\n         [0.74215686, 0.76960784, 0.70686275],\n         [0.74313724, 0.7705882 , 0.7078431 ]],\n\n        [[0.6872549 , 0.7147059 , 0.6519608 ],\n         [0.7019608 , 0.7294118 , 0.6666667 ],\n         [0.6901961 , 0.7176471 , 0.654902  ],\n         ...,\n         [0.73039216, 0.7735294 , 0.70686275],\n         [0.7372549 , 0.7647059 , 0.7019608 ],\n         [0.7392157 , 0.76666665, 0.70392156]],\n\n        [[0.6911765 , 0.71862745, 0.65588236],\n         [0.68039215, 0.7078431 , 0.64509803],\n         [0.6872549 , 0.7147059 , 0.6519608 ],\n         ...,\n         [0.7294118 , 0.77254903, 0.70980394],\n         [0.72745097, 0.7705882 , 0.7078431 ],\n         [0.7205882 , 0.7637255 , 0.70098037]],\n\n        ...,\n\n        [[0.80196077, 0.845098  , 0.7823529 ],\n         [0.7745098 , 0.81764704, 0.75490195],\n         [0.7617647 , 0.80490196, 0.7382353 ],\n         ...,\n         [0.72745097, 0.75490195, 0.69215685],\n         [0.7235294 , 0.7509804 , 0.6882353 ],\n         [0.71666664, 0.7441176 , 0.6813725 ]],\n\n        [[0.7647059 , 0.80784315, 0.74509805],\n         [0.7745098 , 0.81764704, 0.75490195],\n         [0.7617647 , 0.80490196, 0.74215686],\n         ...,\n         [0.7294118 , 0.75686276, 0.69411767],\n         [0.71862745, 0.74215686, 0.6872549 ],\n         [0.7117647 , 0.7352941 , 0.68039215]],\n\n        [[0.7764706 , 0.81960785, 0.75686276],\n         [0.77156866, 0.8147059 , 0.7519608 ],\n         [0.77254903, 0.8156863 , 0.7529412 ],\n         ...,\n         [0.7519608 , 0.7794118 , 0.71666664],\n         [0.7254902 , 0.7529412 , 0.6901961 ],\n         [0.74215686, 0.76960784, 0.70686275]]],\n\n\n       [[[0.8480392 , 0.89509803, 0.8401961 ],\n         [0.8254902 , 0.872549  , 0.81764704],\n         [0.85490197, 0.9019608 , 0.84705883],\n         ...,\n         [0.83137256, 0.8862745 , 0.8352941 ],\n         [0.8666667 , 0.9137255 , 0.8666667 ],\n         [0.8990196 , 0.9460784 , 0.8990196 ]],\n\n        [[0.845098  , 0.9       , 0.84117645],\n         [0.84705883, 0.9019608 , 0.84313726],\n         [0.8372549 , 0.89215684, 0.8333333 ],\n         ...,\n         [0.88039213, 0.9352941 , 0.8843137 ],\n         [0.8892157 , 0.9362745 , 0.8892157 ],\n         [0.89509803, 0.94215685, 0.89509803]],\n\n        [[0.85588235, 0.90294117, 0.85588235],\n         [0.85      , 0.89705884, 0.85      ],\n         [0.85      , 0.89705884, 0.85      ],\n         ...,\n         [0.8754902 , 0.922549  , 0.8754902 ],\n         [0.86764705, 0.922549  , 0.8715686 ],\n         [0.8813726 , 0.9284314 , 0.8813726 ]],\n\n        ...,\n\n        [[0.8       , 0.827451  , 0.7647059 ],\n         [0.79607844, 0.8235294 , 0.7607843 ],\n         [0.80490196, 0.83235294, 0.76960784],\n         ...,\n         [0.7127451 , 0.70098037, 0.6343137 ],\n         [0.69509804, 0.70686275, 0.63235295],\n         [0.69803923, 0.70980394, 0.63529414]],\n\n        [[0.8009804 , 0.82843137, 0.7656863 ],\n         [0.7911765 , 0.8186275 , 0.7558824 ],\n         [0.8068628 , 0.8186275 , 0.7441176 ],\n         ...,\n         [0.69215685, 0.70392156, 0.62941176],\n         [0.69411767, 0.7058824 , 0.6313726 ],\n         [0.6931372 , 0.70490193, 0.63039213]],\n\n        [[0.82941175, 0.8568627 , 0.7941176 ],\n         [0.74509805, 0.77254903, 0.70980394],\n         [0.8137255 , 0.8254902 , 0.7509804 ],\n         ...,\n         [0.69803923, 0.70980394, 0.63529414],\n         [0.6862745 , 0.69803923, 0.62352943],\n         [0.69803923, 0.70980394, 0.63529414]]],\n\n\n       [[[0.87941176, 0.9264706 , 0.87941176],\n         [0.88039213, 0.9313725 , 0.86470586],\n         [0.93333334, 0.9647059 , 0.9       ],\n         ...,\n         [0.43137255, 0.45490196, 0.41568628],\n         [0.44705883, 0.4745098 , 0.4117647 ],\n         [0.4509804 , 0.47843137, 0.41568628]],\n\n        [[0.8686274 , 0.9235294 , 0.872549  ],\n         [0.8539216 , 0.90882355, 0.8421569 ],\n         [0.8480392 , 0.89509803, 0.8088235 ],\n         ...,\n         [0.43529412, 0.45882353, 0.41960785],\n         [0.44509804, 0.47254902, 0.40980393],\n         [0.45490196, 0.48235294, 0.41960785]],\n\n        [[0.89509803, 0.9617647 , 0.90882355],\n         [0.8617647 , 0.9127451 , 0.84607846],\n         [0.85882354, 0.8843137 , 0.82843137],\n         ...,\n         [0.42941177, 0.45686275, 0.39411765],\n         [0.45588234, 0.45588234, 0.41666666],\n         [0.45882353, 0.45882353, 0.41960785]],\n\n        ...,\n\n        [[0.8568627 , 0.90392154, 0.8490196 ],\n         [0.8745098 , 0.92156863, 0.8666667 ],\n         [0.8392157 , 0.90588236, 0.84313726],\n         ...,\n         [0.8862745 , 0.93333334, 0.8784314 ],\n         [0.89117646, 0.93039215, 0.8872549 ],\n         [0.9098039 , 0.95686275, 0.9098039 ]],\n\n        [[0.89215684, 0.9235294 , 0.872549  ],\n         [0.88529414, 0.92058825, 0.8539216 ],\n         [0.8156863 , 0.8627451 , 0.85294116],\n         ...,\n         [0.8784314 , 0.93333334, 0.8745098 ],\n         [0.8862745 , 0.93333334, 0.8862745 ],\n         [0.91568625, 0.9627451 , 0.91568625]],\n\n        [[0.88039213, 0.92745095, 0.872549  ],\n         [0.8754902 , 0.9264706 , 0.85588235],\n         [0.8833333 , 0.922549  , 0.8813726 ],\n         ...,\n         [0.8901961 , 0.9372549 , 0.88235295],\n         [0.87647057, 0.9235294 , 0.87647057],\n         [0.92058825, 0.96568626, 0.92058825]]]], dtype=float32)"
     },
     "execution_count": 250,
     "metadata": {},
     "output_type": "execute_result"
    }
   ],
   "source": [
    "imlist\n"
   ],
   "metadata": {
    "collapsed": false,
    "pycharm": {
     "name": "#%%\n"
    }
   }
  },
  {
   "cell_type": "code",
   "execution_count": 253,
   "outputs": [
    {
     "data": {
      "text/plain": "array([[0.12766936],\n       [0.12766936],\n       [0.12766936],\n       [0.12766936],\n       [0.12766936],\n       [0.12766936],\n       [0.12766936],\n       [0.12766936],\n       [0.12766936],\n       [0.12766936],\n       [0.12766936],\n       [0.12766936],\n       [0.12766936],\n       [0.12766936],\n       [0.12766936],\n       [0.12766936],\n       [0.12766936],\n       [0.12766936],\n       [0.12766936],\n       [0.12766936],\n       [0.12766936],\n       [0.12766936],\n       [0.12766936],\n       [0.12766936],\n       [0.12766936],\n       [0.12766936],\n       [0.12766936],\n       [0.12766936],\n       [0.12766936],\n       [0.12766936],\n       [0.12766936],\n       [0.12766936],\n       [0.12766936],\n       [0.12766936],\n       [0.12766936],\n       [0.12766936],\n       [0.12766936],\n       [0.12766936],\n       [0.12766936],\n       [0.12766936],\n       [0.12766936],\n       [0.12766936],\n       [0.12766936],\n       [0.12766936],\n       [0.12766936],\n       [0.12766936],\n       [0.12766936],\n       [0.12766936],\n       [0.12766936],\n       [0.12766936],\n       [0.12766936],\n       [0.12766936],\n       [0.12766936],\n       [0.12766936],\n       [0.12766936],\n       [0.12766936],\n       [0.12766936],\n       [0.12766936],\n       [0.12766936],\n       [0.12766936],\n       [0.12766936],\n       [0.12766936],\n       [0.12766936],\n       [0.12766936],\n       [0.12766936],\n       [0.12766936],\n       [0.12766936],\n       [0.12766936],\n       [0.12766936],\n       [0.12766936],\n       [0.12766936],\n       [0.12766936],\n       [0.12766936],\n       [0.12766936],\n       [0.12766936],\n       [0.12766936],\n       [0.12766936],\n       [0.12766936],\n       [0.12766936],\n       [0.12766936],\n       [0.12766936],\n       [0.12766936],\n       [0.12766936],\n       [0.12766936],\n       [0.12766936],\n       [0.12766936],\n       [0.12766936],\n       [0.12766936],\n       [0.12766936],\n       [0.12766936],\n       [0.12766936],\n       [0.12766936],\n       [0.12766936],\n       [0.12766936],\n       [0.12766936],\n       [0.12766936]], dtype=float32)"
     },
     "execution_count": 253,
     "metadata": {},
     "output_type": "execute_result"
    }
   ],
   "source": [
    "model.predict(pred_dataset)"
   ],
   "metadata": {
    "collapsed": false,
    "pycharm": {
     "name": "#%%\n"
    }
   }
  },
  {
   "cell_type": "code",
   "execution_count": 256,
   "outputs": [
    {
     "data": {
      "text/plain": "[1,\n 2,\n 3,\n 4,\n 5,\n 6,\n 7,\n 8,\n 9,\n 10,\n 11,\n 12,\n 13,\n 14,\n 15,\n 16,\n 17,\n 18,\n 19,\n 20,\n 21,\n 22,\n 23,\n 24,\n 25,\n 26,\n 27,\n 28,\n 29,\n 30,\n 31,\n 32,\n 33,\n 34,\n 35,\n 36,\n 37,\n 38,\n 39,\n 40,\n 41,\n 42,\n 43,\n 44,\n 45,\n 46,\n 47,\n 48,\n 49,\n 50,\n 51,\n 52,\n 53,\n 54,\n 55,\n 56,\n 57,\n 58,\n 59,\n 60,\n 61,\n 62,\n 63,\n 64,\n 65,\n 66,\n 67,\n 68,\n 69,\n 70,\n 71,\n 72,\n 73,\n 74,\n 75,\n 76,\n 77,\n 78,\n 79,\n 80,\n 81,\n 82,\n 83,\n 84,\n 85,\n 86,\n 87,\n 88,\n 89,\n 90,\n 91,\n 92,\n 93,\n 94,\n 95,\n 96,\n 97,\n 98,\n 99]"
     },
     "execution_count": 256,
     "metadata": {},
     "output_type": "execute_result"
    }
   ],
   "source": [
    "list(range(1,96))"
   ],
   "metadata": {
    "collapsed": false,
    "pycharm": {
     "name": "#%%\n"
    }
   }
  },
  {
   "cell_type": "code",
   "execution_count": null,
   "outputs": [],
   "source": [],
   "metadata": {
    "collapsed": false,
    "pycharm": {
     "name": "#%%\n"
    }
   }
  }
 ],
 "metadata": {
  "kernelspec": {
   "display_name": "Python 3",
   "language": "python",
   "name": "python3"
  },
  "language_info": {
   "codemirror_mode": {
    "name": "ipython",
    "version": 2
   },
   "file_extension": ".py",
   "mimetype": "text/x-python",
   "name": "python",
   "nbconvert_exporter": "python",
   "pygments_lexer": "ipython2",
   "version": "2.7.6"
  }
 },
 "nbformat": 4,
 "nbformat_minor": 0
}